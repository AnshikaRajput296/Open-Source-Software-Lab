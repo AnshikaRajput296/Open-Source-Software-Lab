{
  "cells": [
    {
      "cell_type": "markdown",
      "id": "42fdffe5-2b18-40fa-85ea-9b225cb4998d",
      "metadata": {
        "id": "42fdffe5-2b18-40fa-85ea-9b225cb4998d"
      },
      "source": [
        "Q1"
      ]
    },
    {
      "cell_type": "code",
      "execution_count": null,
      "id": "446ce928-fb43-49ce-aa94-7d8a932d0c29",
      "metadata": {
        "id": "446ce928-fb43-49ce-aa94-7d8a932d0c29"
      },
      "outputs": [],
      "source": [
        "fruits = ['apple' , 'orange' , 'banana' , 'mango','grapes']"
      ]
    },
    {
      "cell_type": "code",
      "execution_count": null,
      "id": "ff8c23a1-fce7-4594-9c16-1ae1a68b2b23",
      "metadata": {
        "id": "ff8c23a1-fce7-4594-9c16-1ae1a68b2b23",
        "outputId": "5257b32b-590f-4766-dd13-0a9ef0c62f9b"
      },
      "outputs": [
        {
          "data": {
            "text/plain": [
              "'apple'"
            ]
          },
          "execution_count": 2,
          "metadata": {},
          "output_type": "execute_result"
        }
      ],
      "source": [
        "fruits[0]"
      ]
    },
    {
      "cell_type": "code",
      "execution_count": null,
      "id": "e8ea7672-9961-4c9f-85da-60574cca4b84",
      "metadata": {
        "id": "e8ea7672-9961-4c9f-85da-60574cca4b84",
        "outputId": "ab321492-c734-44fc-e09c-a9f5baa9d106"
      },
      "outputs": [
        {
          "data": {
            "text/plain": [
              "'grapes'"
            ]
          },
          "execution_count": 3,
          "metadata": {},
          "output_type": "execute_result"
        }
      ],
      "source": [
        "fruits[-1]"
      ]
    },
    {
      "cell_type": "code",
      "execution_count": null,
      "id": "95e6d89c-4805-4e10-9679-e827fafceab2",
      "metadata": {
        "id": "95e6d89c-4805-4e10-9679-e827fafceab2",
        "outputId": "582df7d5-ce2a-4621-9d40-afc55f287eab"
      },
      "outputs": [
        {
          "data": {
            "text/plain": [
              "['orange', 'banana', 'mango']"
            ]
          },
          "execution_count": 5,
          "metadata": {},
          "output_type": "execute_result"
        }
      ],
      "source": [
        "fruits[1:4]"
      ]
    },
    {
      "cell_type": "markdown",
      "id": "14b3e9ff-eaf0-470b-b7c6-59d9f3d1396a",
      "metadata": {
        "id": "14b3e9ff-eaf0-470b-b7c6-59d9f3d1396a"
      },
      "source": [
        "Q2"
      ]
    },
    {
      "cell_type": "code",
      "execution_count": null,
      "id": "faa72335-f86a-4e4e-ae2a-6ea3c9ef011a",
      "metadata": {
        "id": "faa72335-f86a-4e4e-ae2a-6ea3c9ef011a"
      },
      "outputs": [],
      "source": [
        "names = {'Alice': 21, 'Bob': 22, 'Charlie': 20, 'David': 23, 'Eve': 19}"
      ]
    },
    {
      "cell_type": "code",
      "execution_count": null,
      "id": "5e9d1e48-e673-4f2a-9518-669ab45bbd9b",
      "metadata": {
        "id": "5e9d1e48-e673-4f2a-9518-669ab45bbd9b",
        "outputId": "c236072d-0909-40a6-db51-a603b824fbbd"
      },
      "outputs": [
        {
          "data": {
            "text/plain": [
              "20"
            ]
          },
          "execution_count": 9,
          "metadata": {},
          "output_type": "execute_result"
        }
      ],
      "source": [
        "names['Charlie']"
      ]
    },
    {
      "cell_type": "code",
      "execution_count": null,
      "id": "fc5342fd-ba21-4c58-b632-b57dd07a0d41",
      "metadata": {
        "id": "fc5342fd-ba21-4c58-b632-b57dd07a0d41"
      },
      "outputs": [],
      "source": [
        "names['Frank'] = 24"
      ]
    },
    {
      "cell_type": "code",
      "execution_count": null,
      "id": "e6c47a2d-e242-41f1-a585-10f826e7cfaa",
      "metadata": {
        "id": "e6c47a2d-e242-41f1-a585-10f826e7cfaa",
        "outputId": "7a0e9feb-a6fe-458c-e7bd-e3a50cff1e68"
      },
      "outputs": [
        {
          "data": {
            "text/plain": [
              "{'Alice': 21, 'Bob': 22, 'Charlie': 20, 'David': 23, 'Eve': 19, 'Frank': 24}"
            ]
          },
          "execution_count": 11,
          "metadata": {},
          "output_type": "execute_result"
        }
      ],
      "source": [
        "names"
      ]
    },
    {
      "cell_type": "markdown",
      "id": "553fbdf6-b543-46e2-bf98-d176afc8895f",
      "metadata": {
        "id": "553fbdf6-b543-46e2-bf98-d176afc8895f"
      },
      "source": [
        "Q3"
      ]
    },
    {
      "cell_type": "code",
      "execution_count": null,
      "id": "d65d5514-68a5-4ce9-b3ce-8f2bc54d11a1",
      "metadata": {
        "id": "d65d5514-68a5-4ce9-b3ce-8f2bc54d11a1"
      },
      "outputs": [],
      "source": [
        "def duplicates(list):\n",
        "    duplicates = []\n",
        "    seen = set()\n",
        "    for num in list:\n",
        "        if num in seen and num not in duplicates:\n",
        "            duplicates.append(num)\n",
        "        seen.add(num)\n",
        "    return duplicates\n",
        ""
      ]
    },
    {
      "cell_type": "code",
      "execution_count": null,
      "id": "1b591f8f-fc15-4caf-9edf-393ad5a1cdc3",
      "metadata": {
        "id": "1b591f8f-fc15-4caf-9edf-393ad5a1cdc3",
        "outputId": "896b648c-a388-4a94-eefe-d6f11e5be640"
      },
      "outputs": [
        {
          "data": {
            "text/plain": [
              "[1, 3]"
            ]
          },
          "execution_count": 18,
          "metadata": {},
          "output_type": "execute_result"
        }
      ],
      "source": [
        "list = [1,1,1,2,3,3,4,5,6,7]\n",
        "duplicates(list)"
      ]
    },
    {
      "cell_type": "markdown",
      "id": "2a5d6c36-bb51-4800-86b5-fd1cf993ef7e",
      "metadata": {
        "id": "2a5d6c36-bb51-4800-86b5-fd1cf993ef7e"
      },
      "source": [
        "Q4"
      ]
    },
    {
      "cell_type": "code",
      "execution_count": null,
      "id": "dbe98365-bfbb-4766-b7b1-49153b7de6f2",
      "metadata": {
        "id": "dbe98365-bfbb-4766-b7b1-49153b7de6f2"
      },
      "outputs": [],
      "source": [
        "def splitsize(list,size):\n",
        "    ans=[]\n",
        "    listsize = len(list)\n",
        "    ans = []\n",
        "    for i in range(0, listsize, size):\n",
        "        temp = list[i:i+size]\n",
        "        ans.append(temp)\n",
        "    return ans"
      ]
    },
    {
      "cell_type": "code",
      "execution_count": null,
      "id": "772e5ae8-b046-4144-8a49-91a7d87e3dd0",
      "metadata": {
        "scrolled": true,
        "id": "772e5ae8-b046-4144-8a49-91a7d87e3dd0",
        "outputId": "8fcc9fff-a97e-433e-c636-fa025bb7e633"
      },
      "outputs": [
        {
          "data": {
            "text/plain": [
              "[[1, 2, 3], [4, 5, 6], [7, 8, 9]]"
            ]
          },
          "execution_count": 24,
          "metadata": {},
          "output_type": "execute_result"
        }
      ],
      "source": [
        "list = [1,2,3,4,5,6,7,8,9]\n",
        "size = 3\n",
        "splitsize(list,size)"
      ]
    },
    {
      "cell_type": "markdown",
      "id": "1d508326-e7ce-4c32-b1dc-dbace859479b",
      "metadata": {
        "id": "1d508326-e7ce-4c32-b1dc-dbace859479b"
      },
      "source": [
        "Q5"
      ]
    },
    {
      "cell_type": "code",
      "execution_count": null,
      "id": "25d09ffb-f67d-4524-9dd9-c926823362ba",
      "metadata": {
        "id": "25d09ffb-f67d-4524-9dd9-c926823362ba",
        "outputId": "1fd0f20b-5d02-47c4-f0ab-1a0db6160061"
      },
      "outputs": [
        {
          "name": "stdout",
          "output_type": "stream",
          "text": [
            "['apple', 'mango', 'orange', 'banana', 'grapes']\n"
          ]
        }
      ],
      "source": [
        "def lensort(list):\n",
        "    return sorted(list,key=len)\n",
        "\n",
        "list = ['apple' , 'orange' , 'banana' , 'mango','grapes']\n",
        "print(lensort(list))\n",
        ""
      ]
    },
    {
      "cell_type": "markdown",
      "id": "5c9c2b42-5b08-4d1d-b978-74e4a3c5367e",
      "metadata": {
        "id": "5c9c2b42-5b08-4d1d-b978-74e4a3c5367e"
      },
      "source": [
        "Q6"
      ]
    },
    {
      "cell_type": "code",
      "execution_count": null,
      "id": "c412880f-c5d4-4a64-a111-fea7fc9dcc9c",
      "metadata": {
        "id": "c412880f-c5d4-4a64-a111-fea7fc9dcc9c"
      },
      "outputs": [],
      "source": [
        "file1  = open(\"file1.txt\",\"w\")\n",
        "file1.write(\"Anshika Rajput\")\n",
        "file1.close()"
      ]
    },
    {
      "cell_type": "code",
      "execution_count": null,
      "id": "eab18b3c-5281-4678-9103-a7e0722b55f8",
      "metadata": {
        "id": "eab18b3c-5281-4678-9103-a7e0722b55f8",
        "outputId": "6f71a1cb-658b-42cc-edb7-788b0490415c"
      },
      "outputs": [
        {
          "name": "stdout",
          "output_type": "stream",
          "text": [
            "Anshika Rajput\n",
            "\n"
          ]
        }
      ],
      "source": [
        "file1 = open(\"file1.txt\",\"r+\")\n",
        "print(file1.read())\n",
        "print()"
      ]
    },
    {
      "cell_type": "code",
      "execution_count": null,
      "id": "ad2da86a-e5f3-474b-b569-c0f5169b7066",
      "metadata": {
        "id": "ad2da86a-e5f3-474b-b569-c0f5169b7066",
        "outputId": "07b8e671-f759-47c0-f7ef-8ffdad552986"
      },
      "outputs": [
        {
          "name": "stdout",
          "output_type": "stream",
          "text": [
            "Output of Readline function is \n",
            "Anshika Rajput\n",
            "\n"
          ]
        }
      ],
      "source": [
        "file1.seek(0)\n",
        "\n",
        "print(\"Output of Readline function is \")\n",
        "print(file1.readline())\n",
        "print()\n"
      ]
    },
    {
      "cell_type": "markdown",
      "id": "cee7a616-3486-4c82-a880-650526ff6f65",
      "metadata": {
        "id": "cee7a616-3486-4c82-a880-650526ff6f65"
      },
      "source": [
        "Q7"
      ]
    },
    {
      "cell_type": "code",
      "execution_count": 1,
      "id": "ed1a0ba3-36e2-4816-afb2-1bcf0a2ad7fb",
      "metadata": {
        "colab": {
          "base_uri": "https://localhost:8080/"
        },
        "id": "ed1a0ba3-36e2-4816-afb2-1bcf0a2ad7fb",
        "outputId": "ad1c609e-6d43-465e-fd80-f50d122b769c"
      },
      "outputs": [
        {
          "output_type": "stream",
          "name": "stdout",
          "text": [
            "('Anshika', 'Khushi', 'Ritika', 'Saina', 'Shireen')\n",
            "After Adding: ('Anshika', 'Khushi', 'Ritika', 'Saina', 'Shireen', 'Divyanshi')\n",
            "After deleting 2 index: ('Anshika', 'Khushi', 'Saina', 'Shireen', 'Divyanshi')\n",
            "Student from 1 to 3: ('Khushi', 'Saina')\n",
            "Trying to modify tuple will raise an error TypeError: 'tuple' object does not support item assignment \n"
          ]
        }
      ],
      "source": [
        "t=(\"Anshika\",\"Khushi\",\"Ritika\",\"Saina\",\"Shireen\")\n",
        "print(t)\n",
        "t=t+(\"Divyanshi\",)\n",
        "print(\"After Adding:\",t)\n",
        "t=t[:2]+t[3:]\n",
        "print(\"After deleting 2 index:\",t)\n",
        "print(\"Student from 1 to 3:\",t[1:3])\n",
        "print(\"Trying to modify tuple will raise an error TypeError: 'tuple' object does not support item assignment \")"
      ]
    },
    {
      "cell_type": "markdown",
      "source": [
        "Q8"
      ],
      "metadata": {
        "id": "HikKq6w7I7xj"
      },
      "id": "HikKq6w7I7xj"
    },
    {
      "cell_type": "code",
      "source": [
        "dict={\"Anshika\":30,\"Khushi\":20,\"Ritika\":25,\"Saina\":19,\"Shireen\":14}\n",
        "print(\"Students greater than 20:\")\n",
        "for name,age in dict.items():\n",
        "    if age>20:\n",
        "        print(name)\n",
        "dict[\"Pakhi\"]=30\n",
        "print(\"After adding Pakhi:\")\n",
        "print(dict)\n",
        "for name,age in dict.items():\n",
        "    print(f\"{name}: {age}\")\n",
        "del dict[\"Pakhi\"]\n",
        "print(\"After deleting Pakhi:\")\n",
        "print(dict)\n",
        "total=sum(dict.values())\n",
        "avg=total/len(dict)\n",
        "print(\"Average age:{avg.2f}\")"
      ],
      "metadata": {
        "colab": {
          "base_uri": "https://localhost:8080/"
        },
        "id": "t8jMOE6NJBrT",
        "outputId": "da3e6121-614c-4259-91d5-e689798fab9a"
      },
      "id": "t8jMOE6NJBrT",
      "execution_count": 2,
      "outputs": [
        {
          "output_type": "stream",
          "name": "stdout",
          "text": [
            "Students greater than 20:\n",
            "Anshika\n",
            "Ritika\n",
            "After adding Pakhi:\n",
            "{'Anshika': 30, 'Khushi': 20, 'Ritika': 25, 'Saina': 19, 'Shireen': 14, 'Pakhi': 30}\n",
            "Anshika: 30\n",
            "Khushi: 20\n",
            "Ritika: 25\n",
            "Saina: 19\n",
            "Shireen: 14\n",
            "Pakhi: 30\n",
            "After deleting Pakhi:\n",
            "{'Anshika': 30, 'Khushi': 20, 'Ritika': 25, 'Saina': 19, 'Shireen': 14}\n",
            "Average age:{avg.2f}\n"
          ]
        }
      ]
    },
    {
      "cell_type": "markdown",
      "source": [
        "Q9"
      ],
      "metadata": {
        "id": "YMOWgf-dJJFb"
      },
      "id": "YMOWgf-dJJFb"
    },
    {
      "cell_type": "code",
      "source": [
        "l=[1,2,3,4,5,6,7,8,9]\n",
        "for num in l:\n",
        "    if(num%2==0):\n",
        "        print(num)"
      ],
      "metadata": {
        "colab": {
          "base_uri": "https://localhost:8080/"
        },
        "id": "kKfRSATYJM2q",
        "outputId": "0a513606-8e5c-4a74-8307-b30c4ced6a5b"
      },
      "id": "kKfRSATYJM2q",
      "execution_count": 3,
      "outputs": [
        {
          "output_type": "stream",
          "name": "stdout",
          "text": [
            "2\n",
            "4\n",
            "6\n",
            "8\n"
          ]
        }
      ]
    },
    {
      "cell_type": "markdown",
      "source": [
        "Q10"
      ],
      "metadata": {
        "id": "MheSEaB2JSEq"
      },
      "id": "MheSEaB2JSEq"
    },
    {
      "cell_type": "code",
      "source": [
        "def duplicate(numbers):\n",
        "    duplicates = []\n",
        "    seen = set()\n",
        "\n",
        "    for num in numbers:\n",
        "        if num in seen and num not in duplicates:\n",
        "            duplicates.append(num)\n",
        "        seen.add(num)\n",
        "\n",
        "    return duplicates\n",
        "l=[1,2,3,1,2,3,1,2,3,4]\n",
        "ans=duplicate(l)\n",
        "print(ans)"
      ],
      "metadata": {
        "colab": {
          "base_uri": "https://localhost:8080/"
        },
        "id": "wEvqu3EvJUzi",
        "outputId": "f66a20a4-fca1-4c1b-de31-cb4427b96373"
      },
      "id": "wEvqu3EvJUzi",
      "execution_count": 4,
      "outputs": [
        {
          "output_type": "stream",
          "name": "stdout",
          "text": [
            "[1, 2, 3]\n"
          ]
        }
      ]
    },
    {
      "cell_type": "markdown",
      "source": [
        "Q11"
      ],
      "metadata": {
        "id": "16_MM6e6JaYj"
      },
      "id": "16_MM6e6JaYj"
    },
    {
      "cell_type": "code",
      "source": [
        "s=\"Hello! I am Anshika.\"\n",
        "print(s[::-1])"
      ],
      "metadata": {
        "colab": {
          "base_uri": "https://localhost:8080/"
        },
        "id": "SSCcyEFOJcbb",
        "outputId": "9d5f9ac3-5e18-4c0a-d70e-8901dc66e5c4"
      },
      "id": "SSCcyEFOJcbb",
      "execution_count": 5,
      "outputs": [
        {
          "output_type": "stream",
          "name": "stdout",
          "text": [
            ".akihsnA ma I !olleH\n"
          ]
        }
      ]
    },
    {
      "cell_type": "markdown",
      "source": [
        "Q12"
      ],
      "metadata": {
        "id": "shTkZlubJjMa"
      },
      "id": "shTkZlubJjMa"
    },
    {
      "cell_type": "code",
      "source": [
        "a,b=0,1\n",
        "for i in range(0,5):\n",
        "    print(a,end=' ')\n",
        "    a,b=b,a+b\n",
        ""
      ],
      "metadata": {
        "colab": {
          "base_uri": "https://localhost:8080/"
        },
        "id": "5Ms6aSpOJvsi",
        "outputId": "bfe43beb-4410-4ebf-d1b7-30724b092b00"
      },
      "id": "5Ms6aSpOJvsi",
      "execution_count": 6,
      "outputs": [
        {
          "output_type": "stream",
          "name": "stdout",
          "text": [
            "0 1 1 2 3 "
          ]
        }
      ]
    },
    {
      "cell_type": "markdown",
      "source": [
        "Q13"
      ],
      "metadata": {
        "id": "xSromVE-J10K"
      },
      "id": "xSromVE-J10K"
    },
    {
      "cell_type": "code",
      "source": [
        "with open(\"hello.txt\", \"w\") as file:\n",
        "    file.write(\"Hi, I am currently pursuing my BTech from Jaypee.\")\n",
        "\n",
        "print(f\"The contents of file have been replaced successfully.\")"
      ],
      "metadata": {
        "colab": {
          "base_uri": "https://localhost:8080/"
        },
        "id": "00rKw2wjJ3Sj",
        "outputId": "1f5072b6-29a4-43c7-ea35-79115a9afcd2"
      },
      "id": "00rKw2wjJ3Sj",
      "execution_count": 7,
      "outputs": [
        {
          "output_type": "stream",
          "name": "stdout",
          "text": [
            "The contents of file have been replaced successfully.\n"
          ]
        }
      ]
    },
    {
      "cell_type": "markdown",
      "source": [
        "Q14"
      ],
      "metadata": {
        "id": "NlpWWH_iJ_Dq"
      },
      "id": "NlpWWH_iJ_Dq"
    },
    {
      "cell_type": "code",
      "source": [
        "from collections import defaultdict\n",
        "\n",
        "def find_anagrams(words):\n",
        "  \"\"\"\n",
        "  Finds and groups anagrams in a given list of words.\n",
        "  \"\"\"\n",
        "  anagram_map = defaultdict(list)\n",
        "  for word in words:\n",
        "    sorted_word = \"\".join(sorted(word))\n",
        "    anagram_map[sorted_word].append(word)\n",
        "\n",
        "  return [group for group in anagram_map.values() if len(group) > 1]\n",
        "\n",
        "word_list = ['eat', 'ate', 'done', 'tea', 'soup', 'node', 'tan', 'nat']\n",
        "anagram_groups = find_anagrams(word_list)\n",
        "print(f\"Anagrams in {word_list}:\")\n",
        "print(anagram_groups)"
      ],
      "metadata": {
        "colab": {
          "base_uri": "https://localhost:8080/"
        },
        "id": "cKjsQjMFKAbS",
        "outputId": "e60d9d08-027f-4166-e650-5b4b0445f499"
      },
      "id": "cKjsQjMFKAbS",
      "execution_count": 8,
      "outputs": [
        {
          "output_type": "stream",
          "name": "stdout",
          "text": [
            "Anagrams in ['eat', 'ate', 'done', 'tea', 'soup', 'node', 'tan', 'nat']:\n",
            "[['eat', 'ate', 'tea'], ['done', 'node'], ['tan', 'nat']]\n"
          ]
        }
      ]
    }
  ],
  "metadata": {
    "kernelspec": {
      "display_name": "Python 3 (ipykernel)",
      "language": "python",
      "name": "python3"
    },
    "language_info": {
      "codemirror_mode": {
        "name": "ipython",
        "version": 3
      },
      "file_extension": ".py",
      "mimetype": "text/x-python",
      "name": "python",
      "nbconvert_exporter": "python",
      "pygments_lexer": "ipython3",
      "version": "3.11.7"
    },
    "colab": {
      "provenance": []
    }
  },
  "nbformat": 4,
  "nbformat_minor": 5
}